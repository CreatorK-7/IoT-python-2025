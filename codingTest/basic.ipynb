{
 "cells": [
  {
   "cell_type": "markdown",
   "metadata": {},
   "source": [
    "### 1. 반지름 값을 입력받아 원의 넓이를 구하여 출력하는 프로그램을 구현하세요. π는 3.141592 입니다. 내부 모듈을 사용하여도 됩니다. "
   ]
  },
  {
   "cell_type": "code",
   "execution_count": 26,
   "metadata": {},
   "outputs": [
    {
     "name": "stdout",
     "output_type": "stream",
     "text": [
      "반지름은 0보다 커야 합니다. 다시 입력하세요.\n",
      "반지름은 0보다 커야 합니다. 다시 입력하세요.\n",
      "반지름 3.5인 원의 넓이: 38.48\n"
     ]
    }
   ],
   "source": [
    "import math\n",
    "\n",
    "while True:\n",
    "    try:\n",
    "        radius = float(input(\"반지름을 입력하세요: \").strip())  # 공백 제거 후 입력받기\n",
    "        if radius <= 0:\n",
    "            print(\"반지름은 0보다 커야 합니다. 다시 입력하세요.\")\n",
    "            continue\n",
    "        break  # 정상 입력 시 루프 종료\n",
    "    except ValueError:\n",
    "        print(\"숫자를 입력하세요.\")  # 잘못된 입력 처리\n",
    "\n",
    "# 원의 넓이 계산\n",
    "area = math.pi * radius ** 2\n",
    "\n",
    "# 결과 출력\n",
    "print(f\"반지름 {radius}인 원의 넓이: {area:.2f}\")"
   ]
  },
  {
   "cell_type": "markdown",
   "metadata": {},
   "source": [
    "### 2. 영문이름을 입력하면 웹사이트 주소가 리턴되는 함수, get_url() 를  구현하세요.\n",
    "예) url = get_url('google') \n",
    "print(url) # www.google.com"
   ]
  },
  {
   "cell_type": "code",
   "execution_count": 30,
   "metadata": {},
   "outputs": [
    {
     "name": "stdout",
     "output_type": "stream",
     "text": [
      "영문 이름만 입력 가능합니다. 다시 입력하세요.\n",
      "영문 이름만 입력 가능합니다. 다시 입력하세요.\n",
      "영문 이름만 입력 가능합니다. 다시 입력하세요.\n",
      "www.google.com\n"
     ]
    }
   ],
   "source": [
    "def get_url():\n",
    "    while True:\n",
    "        # 사용자로부터 영문 이름을 입력받음\n",
    "        name = input(\"Enter an English name: \")\n",
    "\n",
    "        # 입력값이 영문인지 확인\n",
    "        if not name.isalpha() or not name.isascii():\n",
    "            print(\"영문 이름만 입력 가능합니다. 다시 입력하세요.\")\n",
    "            continue\n",
    "        \n",
    "        # 이름을 소문자로 변환하고, 웹사이트 주소의 기본 형식 생성\n",
    "        name_lower = name.lower()\n",
    "        url = f'www.{name_lower}.com'\n",
    "        return url\n",
    "\n",
    "# 함수 실행 예시\n",
    "url = get_url()\n",
    "print(url)"
   ]
  },
  {
   "cell_type": "markdown",
   "metadata": {},
   "source": [
    "### 3.  구구단을 수행할 단번호를 입력하면 그 단의 9까지의 결과를 나열하는 프로그램을 입력하세요.\n",
    "예) 3 --> 3 6 9 12 15 18 21 24 27"
   ]
  },
  {
   "cell_type": "code",
   "execution_count": 33,
   "metadata": {},
   "outputs": [
    {
     "name": "stdout",
     "output_type": "stream",
     "text": [
      "숫자를 입력하세요.\n",
      "1부터 9 사이의 숫자를 입력하세요.\n",
      "3 6 9 12 15 18 21 24 27\n"
     ]
    }
   ],
   "source": [
    "def print_multiplication_table():\n",
    "    # 사용자로부터 구구단 단 번호를 입력받음\n",
    "    while True:\n",
    "        try:\n",
    "            num = int(input(\"구구단 단 번호를 입력하세요 (1~9): \"))\n",
    "            if 1 <= num <= 9:\n",
    "                break\n",
    "            else:\n",
    "                print(\"1부터 9 사이의 숫자를 입력하세요.\")\n",
    "        except ValueError:\n",
    "            print(\"숫자를 입력하세요.\")\n",
    "\n",
    "    # 구구단 계산 및 출력\n",
    "    result = [num * i for i in range(1, 10)]\n",
    "    print(\" \".join(map(str, result)))\n",
    "\n",
    "# 함수 실행\n",
    "print_multiplication_table()"
   ]
  },
  {
   "cell_type": "markdown",
   "metadata": {},
   "source": [
    "### 4.  입력한 수를 거꾸로 출력하는 프로그램을 구현하세요.\n",
    "예) 1 3 5 7 9 --> 9 7 5 3 1"
   ]
  },
  {
   "cell_type": "code",
   "execution_count": 47,
   "metadata": {},
   "outputs": [
    {
     "name": "stdout",
     "output_type": "stream",
     "text": [
      "오류: 잘못된 입력: 'ㅇ'은(는) 숫자가 아닙니다.\n",
      "오류: 잘못된 입력: '!'은(는) 숫자가 아닙니다.\n",
      "거꾸로 출력: 1.0 0.0 -5.0\n"
     ]
    }
   ],
   "source": [
    "def reverse_numbers():\n",
    "    while True:\n",
    "        try:\n",
    "            # 사용자 입력 받기\n",
    "            user_input = input(\"숫자를 입력하세요 (공백으로 구분): \").strip()\n",
    "            \n",
    "            # 입력이 비어 있을 경우 예외 처리\n",
    "            if not user_input:\n",
    "                raise ValueError(\"입력값이 비어있습니다. 숫자를 입력해주세요.\")\n",
    "            \n",
    "            # 입력을 공백 기준으로 나누어 리스트로 변환\n",
    "            numbers = user_input.split()\n",
    "            \n",
    "            # 숫자로 변환 가능한지 확인 후 변환\n",
    "            converted_numbers = []\n",
    "            for num in numbers:\n",
    "                try:\n",
    "                    converted_numbers.append(float(num))  # float 변환 시도\n",
    "                except ValueError:\n",
    "                    raise ValueError(f\"잘못된 입력: '{num}'은(는) 숫자가 아닙니다.\")\n",
    "\n",
    "            # 숫자들을 거꾸로 출력\n",
    "            reversed_numbers = \" \".join(map(str, converted_numbers[::-1]))\n",
    "            print(f\"거꾸로 출력: {reversed_numbers}\")\n",
    "            break  # 정상 입력이면 종료\n",
    "\n",
    "        except ValueError as ve:\n",
    "            print(f\"오류: {ve}\")  # 예외 메시지 출력\n",
    "        except Exception as e:\n",
    "            print(f\"알 수 없는 오류가 발생했습니다: {e}\")\n",
    "\n",
    "# 함수 실행\n",
    "reverse_numbers()"
   ]
  },
  {
   "cell_type": "markdown",
   "metadata": {},
   "source": [
    "### 5. SmartPhone 이라는 클래스를 만들고, 객체를 생성해서 phoneOwner, phoneNumber, company 등의 멤버변수(속성)을 가지도록 만드세요.(본인이 다른 기능을 좀 더 추가하여도 무방합니다)"
   ]
  },
  {
   "cell_type": "code",
   "execution_count": 46,
   "metadata": {},
   "outputs": [
    {
     "name": "stdout",
     "output_type": "stream",
     "text": [
      " 스마트폰 정보\n",
      "소유자: 김진영, 전화번호: 010-1234-5678, 제조사: samsung\n",
      "김진영님이 010-9876-5432로 전화를 겁니다.\n",
      "김진영님이 010-9876-5432에게 메시지 보냄: Hi? How are you?\n"
     ]
    }
   ],
   "source": [
    "class SmartPhone:\n",
    "    def __init__(self, phoneOwner, phoneNumber, company):\n",
    "        self.phoneOwner = phoneOwner    # 소유자\n",
    "        self.phoneNumber = phoneNumber  # 전화번호\n",
    "        self.company = company  # 제조사\n",
    "    \n",
    "    def call(self, target_number):\n",
    "        \"\"\"전화를 거는 기능\"\"\"\n",
    "        print(f\"{self.phoneOwner}님이 {target_number}로 전화를 겁니다.\")\n",
    "            \n",
    "    def sendMessage(self, target_number, message):\n",
    "        \"\"\"문자 메시지 보내는 기능\"\"\"\n",
    "        print(f\"{self.phoneOwner}님이 {target_number}에게 메시지 보냄: {message}\")\n",
    "    \n",
    "    def getInfo(self):\n",
    "        \"\"\"스마트폰 정보 출력\"\"\"\n",
    "        print(\" 스마트폰 정보\")\n",
    "        return f\"소유자: {self.phoneOwner}, 전화번호: {self.phoneNumber}, 제조사: {self.company}\"\n",
    "\n",
    "# 사용자 입력 받기\n",
    "owner = input(\"휴대폰 소유자 이름: \")\n",
    "number = input(\"사용자 전화번호: \")\n",
    "company = input(\"휴대폰 제조사: \")\n",
    "\n",
    "# 객체 생성\n",
    "myPhone = SmartPhone(owner, number, company)\n",
    "\n",
    "# 정보 출력\n",
    "print(myPhone.getInfo())\n",
    "\n",
    "# 전화 및 메시지 기능 사용\n",
    "call_number = input(\"전화할 전화번호: \")\n",
    "myPhone.call(call_number)\n",
    "\n",
    "msg_number = input(\"메세지 남길 전화번호: \")\n",
    "message = input(\"전할 메세지: \")\n",
    "myPhone.sendMessage(msg_number, message)\n"
   ]
  }
 ],
 "metadata": {
  "kernelspec": {
   "display_name": "Python 3",
   "language": "python",
   "name": "python3"
  },
  "language_info": {
   "codemirror_mode": {
    "name": "ipython",
    "version": 3
   },
   "file_extension": ".py",
   "mimetype": "text/x-python",
   "name": "python",
   "nbconvert_exporter": "python",
   "pygments_lexer": "ipython3",
   "version": "3.11.9"
  }
 },
 "nbformat": 4,
 "nbformat_minor": 2
}
